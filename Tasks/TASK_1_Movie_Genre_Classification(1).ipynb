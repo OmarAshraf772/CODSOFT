{
  "nbformat": 4,
  "nbformat_minor": 0,
  "metadata": {
    "colab": {
      "provenance": [],
      "gpuType": "T4"
    },
    "kernelspec": {
      "name": "python3",
      "display_name": "Python 3"
    },
    "language_info": {
      "name": "python"
    },
    "accelerator": "GPU"
  },
  "cells": [
    {
      "cell_type": "markdown",
      "source": [
        "# Movie Genre Classification"
      ],
      "metadata": {
        "id": "r2MxDykeXLYV"
      }
    },
    {
      "cell_type": "code",
      "execution_count": null,
      "metadata": {
        "id": "JijcQ6dKtHpA"
      },
      "outputs": [],
      "source": [
        "import numpy as np\n",
        "import pandas as pd\n",
        "import matplotlib.pyplot as plt\n",
        "import os"
      ]
    },
    {
      "cell_type": "markdown",
      "source": [
        "## Read in data"
      ],
      "metadata": {
        "id": "MnjK2mpmXH3R"
      }
    },
    {
      "cell_type": "code",
      "source": [
        "train_data=pd.read_csv(\"/content/train_data.txt\",\n",
        "                       sep=\":::\", engine=\"python\", names=[\"Title\", \"Genre\", \"Description\"])\n",
        "\n",
        "test_data=pd.read_csv(\"/content/test_data.txt\",\n",
        "                       sep=\":::\", engine=\"python\", names=[\"Title\", \"Description\"])\n",
        "train_data.head()"
      ],
      "metadata": {
        "colab": {
          "base_uri": "https://localhost:8080/",
          "height": 206
        },
        "id": "6GJF4Xvevs6d",
        "outputId": "4e590fbc-f515-4c03-8d04-cb76fa523d34"
      },
      "execution_count": null,
      "outputs": [
        {
          "output_type": "execute_result",
          "data": {
            "text/plain": [
              "                                Title       Genre  \\\n",
              "1       Oscar et la dame rose (2009)       drama    \n",
              "2                       Cupid (1997)    thriller    \n",
              "3   Young, Wild and Wonderful (1980)       adult    \n",
              "4              The Secret Sin (1915)       drama    \n",
              "5             The Unrecovered (2007)       drama    \n",
              "\n",
              "                                         Description  \n",
              "1   Listening in to a conversation between his do...  \n",
              "2   A brother and sister with a past incestuous r...  \n",
              "3   As the bus empties the students for their fie...  \n",
              "4   To help their unemployed father make ends mee...  \n",
              "5   The film's title refers not only to the un-re...  "
            ],
            "text/html": [
              "\n",
              "  <div id=\"df-2032c309-0bc8-4ccf-8b6a-f54cba0fec73\" class=\"colab-df-container\">\n",
              "    <div>\n",
              "<style scoped>\n",
              "    .dataframe tbody tr th:only-of-type {\n",
              "        vertical-align: middle;\n",
              "    }\n",
              "\n",
              "    .dataframe tbody tr th {\n",
              "        vertical-align: top;\n",
              "    }\n",
              "\n",
              "    .dataframe thead th {\n",
              "        text-align: right;\n",
              "    }\n",
              "</style>\n",
              "<table border=\"1\" class=\"dataframe\">\n",
              "  <thead>\n",
              "    <tr style=\"text-align: right;\">\n",
              "      <th></th>\n",
              "      <th>Title</th>\n",
              "      <th>Genre</th>\n",
              "      <th>Description</th>\n",
              "    </tr>\n",
              "  </thead>\n",
              "  <tbody>\n",
              "    <tr>\n",
              "      <th>1</th>\n",
              "      <td>Oscar et la dame rose (2009)</td>\n",
              "      <td>drama</td>\n",
              "      <td>Listening in to a conversation between his do...</td>\n",
              "    </tr>\n",
              "    <tr>\n",
              "      <th>2</th>\n",
              "      <td>Cupid (1997)</td>\n",
              "      <td>thriller</td>\n",
              "      <td>A brother and sister with a past incestuous r...</td>\n",
              "    </tr>\n",
              "    <tr>\n",
              "      <th>3</th>\n",
              "      <td>Young, Wild and Wonderful (1980)</td>\n",
              "      <td>adult</td>\n",
              "      <td>As the bus empties the students for their fie...</td>\n",
              "    </tr>\n",
              "    <tr>\n",
              "      <th>4</th>\n",
              "      <td>The Secret Sin (1915)</td>\n",
              "      <td>drama</td>\n",
              "      <td>To help their unemployed father make ends mee...</td>\n",
              "    </tr>\n",
              "    <tr>\n",
              "      <th>5</th>\n",
              "      <td>The Unrecovered (2007)</td>\n",
              "      <td>drama</td>\n",
              "      <td>The film's title refers not only to the un-re...</td>\n",
              "    </tr>\n",
              "  </tbody>\n",
              "</table>\n",
              "</div>\n",
              "    <div class=\"colab-df-buttons\">\n",
              "\n",
              "  <div class=\"colab-df-container\">\n",
              "    <button class=\"colab-df-convert\" onclick=\"convertToInteractive('df-2032c309-0bc8-4ccf-8b6a-f54cba0fec73')\"\n",
              "            title=\"Convert this dataframe to an interactive table.\"\n",
              "            style=\"display:none;\">\n",
              "\n",
              "  <svg xmlns=\"http://www.w3.org/2000/svg\" height=\"24px\" viewBox=\"0 -960 960 960\">\n",
              "    <path d=\"M120-120v-720h720v720H120Zm60-500h600v-160H180v160Zm220 220h160v-160H400v160Zm0 220h160v-160H400v160ZM180-400h160v-160H180v160Zm440 0h160v-160H620v160ZM180-180h160v-160H180v160Zm440 0h160v-160H620v160Z\"/>\n",
              "  </svg>\n",
              "    </button>\n",
              "\n",
              "  <style>\n",
              "    .colab-df-container {\n",
              "      display:flex;\n",
              "      gap: 12px;\n",
              "    }\n",
              "\n",
              "    .colab-df-convert {\n",
              "      background-color: #E8F0FE;\n",
              "      border: none;\n",
              "      border-radius: 50%;\n",
              "      cursor: pointer;\n",
              "      display: none;\n",
              "      fill: #1967D2;\n",
              "      height: 32px;\n",
              "      padding: 0 0 0 0;\n",
              "      width: 32px;\n",
              "    }\n",
              "\n",
              "    .colab-df-convert:hover {\n",
              "      background-color: #E2EBFA;\n",
              "      box-shadow: 0px 1px 2px rgba(60, 64, 67, 0.3), 0px 1px 3px 1px rgba(60, 64, 67, 0.15);\n",
              "      fill: #174EA6;\n",
              "    }\n",
              "\n",
              "    .colab-df-buttons div {\n",
              "      margin-bottom: 4px;\n",
              "    }\n",
              "\n",
              "    [theme=dark] .colab-df-convert {\n",
              "      background-color: #3B4455;\n",
              "      fill: #D2E3FC;\n",
              "    }\n",
              "\n",
              "    [theme=dark] .colab-df-convert:hover {\n",
              "      background-color: #434B5C;\n",
              "      box-shadow: 0px 1px 3px 1px rgba(0, 0, 0, 0.15);\n",
              "      filter: drop-shadow(0px 1px 2px rgba(0, 0, 0, 0.3));\n",
              "      fill: #FFFFFF;\n",
              "    }\n",
              "  </style>\n",
              "\n",
              "    <script>\n",
              "      const buttonEl =\n",
              "        document.querySelector('#df-2032c309-0bc8-4ccf-8b6a-f54cba0fec73 button.colab-df-convert');\n",
              "      buttonEl.style.display =\n",
              "        google.colab.kernel.accessAllowed ? 'block' : 'none';\n",
              "\n",
              "      async function convertToInteractive(key) {\n",
              "        const element = document.querySelector('#df-2032c309-0bc8-4ccf-8b6a-f54cba0fec73');\n",
              "        const dataTable =\n",
              "          await google.colab.kernel.invokeFunction('convertToInteractive',\n",
              "                                                    [key], {});\n",
              "        if (!dataTable) return;\n",
              "\n",
              "        const docLinkHtml = 'Like what you see? Visit the ' +\n",
              "          '<a target=\"_blank\" href=https://colab.research.google.com/notebooks/data_table.ipynb>data table notebook</a>'\n",
              "          + ' to learn more about interactive tables.';\n",
              "        element.innerHTML = '';\n",
              "        dataTable['output_type'] = 'display_data';\n",
              "        await google.colab.output.renderOutput(dataTable, element);\n",
              "        const docLink = document.createElement('div');\n",
              "        docLink.innerHTML = docLinkHtml;\n",
              "        element.appendChild(docLink);\n",
              "      }\n",
              "    </script>\n",
              "  </div>\n",
              "\n",
              "\n",
              "<div id=\"df-73434ad2-2e7e-433e-a4ae-ed250fcdf589\">\n",
              "  <button class=\"colab-df-quickchart\" onclick=\"quickchart('df-73434ad2-2e7e-433e-a4ae-ed250fcdf589')\"\n",
              "            title=\"Suggest charts\"\n",
              "            style=\"display:none;\">\n",
              "\n",
              "<svg xmlns=\"http://www.w3.org/2000/svg\" height=\"24px\"viewBox=\"0 0 24 24\"\n",
              "     width=\"24px\">\n",
              "    <g>\n",
              "        <path d=\"M19 3H5c-1.1 0-2 .9-2 2v14c0 1.1.9 2 2 2h14c1.1 0 2-.9 2-2V5c0-1.1-.9-2-2-2zM9 17H7v-7h2v7zm4 0h-2V7h2v10zm4 0h-2v-4h2v4z\"/>\n",
              "    </g>\n",
              "</svg>\n",
              "  </button>\n",
              "\n",
              "<style>\n",
              "  .colab-df-quickchart {\n",
              "      --bg-color: #E8F0FE;\n",
              "      --fill-color: #1967D2;\n",
              "      --hover-bg-color: #E2EBFA;\n",
              "      --hover-fill-color: #174EA6;\n",
              "      --disabled-fill-color: #AAA;\n",
              "      --disabled-bg-color: #DDD;\n",
              "  }\n",
              "\n",
              "  [theme=dark] .colab-df-quickchart {\n",
              "      --bg-color: #3B4455;\n",
              "      --fill-color: #D2E3FC;\n",
              "      --hover-bg-color: #434B5C;\n",
              "      --hover-fill-color: #FFFFFF;\n",
              "      --disabled-bg-color: #3B4455;\n",
              "      --disabled-fill-color: #666;\n",
              "  }\n",
              "\n",
              "  .colab-df-quickchart {\n",
              "    background-color: var(--bg-color);\n",
              "    border: none;\n",
              "    border-radius: 50%;\n",
              "    cursor: pointer;\n",
              "    display: none;\n",
              "    fill: var(--fill-color);\n",
              "    height: 32px;\n",
              "    padding: 0;\n",
              "    width: 32px;\n",
              "  }\n",
              "\n",
              "  .colab-df-quickchart:hover {\n",
              "    background-color: var(--hover-bg-color);\n",
              "    box-shadow: 0 1px 2px rgba(60, 64, 67, 0.3), 0 1px 3px 1px rgba(60, 64, 67, 0.15);\n",
              "    fill: var(--button-hover-fill-color);\n",
              "  }\n",
              "\n",
              "  .colab-df-quickchart-complete:disabled,\n",
              "  .colab-df-quickchart-complete:disabled:hover {\n",
              "    background-color: var(--disabled-bg-color);\n",
              "    fill: var(--disabled-fill-color);\n",
              "    box-shadow: none;\n",
              "  }\n",
              "\n",
              "  .colab-df-spinner {\n",
              "    border: 2px solid var(--fill-color);\n",
              "    border-color: transparent;\n",
              "    border-bottom-color: var(--fill-color);\n",
              "    animation:\n",
              "      spin 1s steps(1) infinite;\n",
              "  }\n",
              "\n",
              "  @keyframes spin {\n",
              "    0% {\n",
              "      border-color: transparent;\n",
              "      border-bottom-color: var(--fill-color);\n",
              "      border-left-color: var(--fill-color);\n",
              "    }\n",
              "    20% {\n",
              "      border-color: transparent;\n",
              "      border-left-color: var(--fill-color);\n",
              "      border-top-color: var(--fill-color);\n",
              "    }\n",
              "    30% {\n",
              "      border-color: transparent;\n",
              "      border-left-color: var(--fill-color);\n",
              "      border-top-color: var(--fill-color);\n",
              "      border-right-color: var(--fill-color);\n",
              "    }\n",
              "    40% {\n",
              "      border-color: transparent;\n",
              "      border-right-color: var(--fill-color);\n",
              "      border-top-color: var(--fill-color);\n",
              "    }\n",
              "    60% {\n",
              "      border-color: transparent;\n",
              "      border-right-color: var(--fill-color);\n",
              "    }\n",
              "    80% {\n",
              "      border-color: transparent;\n",
              "      border-right-color: var(--fill-color);\n",
              "      border-bottom-color: var(--fill-color);\n",
              "    }\n",
              "    90% {\n",
              "      border-color: transparent;\n",
              "      border-bottom-color: var(--fill-color);\n",
              "    }\n",
              "  }\n",
              "</style>\n",
              "\n",
              "  <script>\n",
              "    async function quickchart(key) {\n",
              "      const quickchartButtonEl =\n",
              "        document.querySelector('#' + key + ' button');\n",
              "      quickchartButtonEl.disabled = true;  // To prevent multiple clicks.\n",
              "      quickchartButtonEl.classList.add('colab-df-spinner');\n",
              "      try {\n",
              "        const charts = await google.colab.kernel.invokeFunction(\n",
              "            'suggestCharts', [key], {});\n",
              "      } catch (error) {\n",
              "        console.error('Error during call to suggestCharts:', error);\n",
              "      }\n",
              "      quickchartButtonEl.classList.remove('colab-df-spinner');\n",
              "      quickchartButtonEl.classList.add('colab-df-quickchart-complete');\n",
              "    }\n",
              "    (() => {\n",
              "      let quickchartButtonEl =\n",
              "        document.querySelector('#df-73434ad2-2e7e-433e-a4ae-ed250fcdf589 button');\n",
              "      quickchartButtonEl.style.display =\n",
              "        google.colab.kernel.accessAllowed ? 'block' : 'none';\n",
              "    })();\n",
              "  </script>\n",
              "</div>\n",
              "\n",
              "    </div>\n",
              "  </div>\n"
            ]
          },
          "metadata": {},
          "execution_count": 2
        }
      ]
    },
    {
      "cell_type": "code",
      "source": [
        "test_data_solution=pd.read_csv(\"/content/test_data_solution.txt\",\n",
        "                       sep=\":::\", engine=\"python\", names=[\"Title\", \"Genre\", \"Description\"])\n",
        "test_data_solution.head()"
      ],
      "metadata": {
        "colab": {
          "base_uri": "https://localhost:8080/",
          "height": 206
        },
        "id": "mLxNZVKi_ehE",
        "outputId": "978ce3d9-a44a-4e9a-c92c-b6c15e1062a1"
      },
      "execution_count": null,
      "outputs": [
        {
          "output_type": "execute_result",
          "data": {
            "text/plain": [
              "                           Title          Genre  \\\n",
              "1          Edgar's Lunch (1998)       thriller    \n",
              "2      La guerra de papá (1977)         comedy    \n",
              "3   Off the Beaten Track (2010)    documentary    \n",
              "4        Meu Amigo Hindu (2015)          drama    \n",
              "5             Er nu zhai (1955)          drama    \n",
              "\n",
              "                                         Description  \n",
              "1   L.R. Brane loves his life - his car, his apar...  \n",
              "2   Spain, March 1964: Quico is a very naughty ch...  \n",
              "3   One year in the life of Albin and his family ...  \n",
              "4   His father has died, he hasn't spoken with hi...  \n",
              "5   Before he was known internationally as a mart...  "
            ],
            "text/html": [
              "\n",
              "  <div id=\"df-f95c218a-8f0e-46dd-8b19-704653a1e997\" class=\"colab-df-container\">\n",
              "    <div>\n",
              "<style scoped>\n",
              "    .dataframe tbody tr th:only-of-type {\n",
              "        vertical-align: middle;\n",
              "    }\n",
              "\n",
              "    .dataframe tbody tr th {\n",
              "        vertical-align: top;\n",
              "    }\n",
              "\n",
              "    .dataframe thead th {\n",
              "        text-align: right;\n",
              "    }\n",
              "</style>\n",
              "<table border=\"1\" class=\"dataframe\">\n",
              "  <thead>\n",
              "    <tr style=\"text-align: right;\">\n",
              "      <th></th>\n",
              "      <th>Title</th>\n",
              "      <th>Genre</th>\n",
              "      <th>Description</th>\n",
              "    </tr>\n",
              "  </thead>\n",
              "  <tbody>\n",
              "    <tr>\n",
              "      <th>1</th>\n",
              "      <td>Edgar's Lunch (1998)</td>\n",
              "      <td>thriller</td>\n",
              "      <td>L.R. Brane loves his life - his car, his apar...</td>\n",
              "    </tr>\n",
              "    <tr>\n",
              "      <th>2</th>\n",
              "      <td>La guerra de papá (1977)</td>\n",
              "      <td>comedy</td>\n",
              "      <td>Spain, March 1964: Quico is a very naughty ch...</td>\n",
              "    </tr>\n",
              "    <tr>\n",
              "      <th>3</th>\n",
              "      <td>Off the Beaten Track (2010)</td>\n",
              "      <td>documentary</td>\n",
              "      <td>One year in the life of Albin and his family ...</td>\n",
              "    </tr>\n",
              "    <tr>\n",
              "      <th>4</th>\n",
              "      <td>Meu Amigo Hindu (2015)</td>\n",
              "      <td>drama</td>\n",
              "      <td>His father has died, he hasn't spoken with hi...</td>\n",
              "    </tr>\n",
              "    <tr>\n",
              "      <th>5</th>\n",
              "      <td>Er nu zhai (1955)</td>\n",
              "      <td>drama</td>\n",
              "      <td>Before he was known internationally as a mart...</td>\n",
              "    </tr>\n",
              "  </tbody>\n",
              "</table>\n",
              "</div>\n",
              "    <div class=\"colab-df-buttons\">\n",
              "\n",
              "  <div class=\"colab-df-container\">\n",
              "    <button class=\"colab-df-convert\" onclick=\"convertToInteractive('df-f95c218a-8f0e-46dd-8b19-704653a1e997')\"\n",
              "            title=\"Convert this dataframe to an interactive table.\"\n",
              "            style=\"display:none;\">\n",
              "\n",
              "  <svg xmlns=\"http://www.w3.org/2000/svg\" height=\"24px\" viewBox=\"0 -960 960 960\">\n",
              "    <path d=\"M120-120v-720h720v720H120Zm60-500h600v-160H180v160Zm220 220h160v-160H400v160Zm0 220h160v-160H400v160ZM180-400h160v-160H180v160Zm440 0h160v-160H620v160ZM180-180h160v-160H180v160Zm440 0h160v-160H620v160Z\"/>\n",
              "  </svg>\n",
              "    </button>\n",
              "\n",
              "  <style>\n",
              "    .colab-df-container {\n",
              "      display:flex;\n",
              "      gap: 12px;\n",
              "    }\n",
              "\n",
              "    .colab-df-convert {\n",
              "      background-color: #E8F0FE;\n",
              "      border: none;\n",
              "      border-radius: 50%;\n",
              "      cursor: pointer;\n",
              "      display: none;\n",
              "      fill: #1967D2;\n",
              "      height: 32px;\n",
              "      padding: 0 0 0 0;\n",
              "      width: 32px;\n",
              "    }\n",
              "\n",
              "    .colab-df-convert:hover {\n",
              "      background-color: #E2EBFA;\n",
              "      box-shadow: 0px 1px 2px rgba(60, 64, 67, 0.3), 0px 1px 3px 1px rgba(60, 64, 67, 0.15);\n",
              "      fill: #174EA6;\n",
              "    }\n",
              "\n",
              "    .colab-df-buttons div {\n",
              "      margin-bottom: 4px;\n",
              "    }\n",
              "\n",
              "    [theme=dark] .colab-df-convert {\n",
              "      background-color: #3B4455;\n",
              "      fill: #D2E3FC;\n",
              "    }\n",
              "\n",
              "    [theme=dark] .colab-df-convert:hover {\n",
              "      background-color: #434B5C;\n",
              "      box-shadow: 0px 1px 3px 1px rgba(0, 0, 0, 0.15);\n",
              "      filter: drop-shadow(0px 1px 2px rgba(0, 0, 0, 0.3));\n",
              "      fill: #FFFFFF;\n",
              "    }\n",
              "  </style>\n",
              "\n",
              "    <script>\n",
              "      const buttonEl =\n",
              "        document.querySelector('#df-f95c218a-8f0e-46dd-8b19-704653a1e997 button.colab-df-convert');\n",
              "      buttonEl.style.display =\n",
              "        google.colab.kernel.accessAllowed ? 'block' : 'none';\n",
              "\n",
              "      async function convertToInteractive(key) {\n",
              "        const element = document.querySelector('#df-f95c218a-8f0e-46dd-8b19-704653a1e997');\n",
              "        const dataTable =\n",
              "          await google.colab.kernel.invokeFunction('convertToInteractive',\n",
              "                                                    [key], {});\n",
              "        if (!dataTable) return;\n",
              "\n",
              "        const docLinkHtml = 'Like what you see? Visit the ' +\n",
              "          '<a target=\"_blank\" href=https://colab.research.google.com/notebooks/data_table.ipynb>data table notebook</a>'\n",
              "          + ' to learn more about interactive tables.';\n",
              "        element.innerHTML = '';\n",
              "        dataTable['output_type'] = 'display_data';\n",
              "        await google.colab.output.renderOutput(dataTable, element);\n",
              "        const docLink = document.createElement('div');\n",
              "        docLink.innerHTML = docLinkHtml;\n",
              "        element.appendChild(docLink);\n",
              "      }\n",
              "    </script>\n",
              "  </div>\n",
              "\n",
              "\n",
              "<div id=\"df-6e7916af-f58c-4bcc-b9c1-7fd4eef3b2ed\">\n",
              "  <button class=\"colab-df-quickchart\" onclick=\"quickchart('df-6e7916af-f58c-4bcc-b9c1-7fd4eef3b2ed')\"\n",
              "            title=\"Suggest charts\"\n",
              "            style=\"display:none;\">\n",
              "\n",
              "<svg xmlns=\"http://www.w3.org/2000/svg\" height=\"24px\"viewBox=\"0 0 24 24\"\n",
              "     width=\"24px\">\n",
              "    <g>\n",
              "        <path d=\"M19 3H5c-1.1 0-2 .9-2 2v14c0 1.1.9 2 2 2h14c1.1 0 2-.9 2-2V5c0-1.1-.9-2-2-2zM9 17H7v-7h2v7zm4 0h-2V7h2v10zm4 0h-2v-4h2v4z\"/>\n",
              "    </g>\n",
              "</svg>\n",
              "  </button>\n",
              "\n",
              "<style>\n",
              "  .colab-df-quickchart {\n",
              "      --bg-color: #E8F0FE;\n",
              "      --fill-color: #1967D2;\n",
              "      --hover-bg-color: #E2EBFA;\n",
              "      --hover-fill-color: #174EA6;\n",
              "      --disabled-fill-color: #AAA;\n",
              "      --disabled-bg-color: #DDD;\n",
              "  }\n",
              "\n",
              "  [theme=dark] .colab-df-quickchart {\n",
              "      --bg-color: #3B4455;\n",
              "      --fill-color: #D2E3FC;\n",
              "      --hover-bg-color: #434B5C;\n",
              "      --hover-fill-color: #FFFFFF;\n",
              "      --disabled-bg-color: #3B4455;\n",
              "      --disabled-fill-color: #666;\n",
              "  }\n",
              "\n",
              "  .colab-df-quickchart {\n",
              "    background-color: var(--bg-color);\n",
              "    border: none;\n",
              "    border-radius: 50%;\n",
              "    cursor: pointer;\n",
              "    display: none;\n",
              "    fill: var(--fill-color);\n",
              "    height: 32px;\n",
              "    padding: 0;\n",
              "    width: 32px;\n",
              "  }\n",
              "\n",
              "  .colab-df-quickchart:hover {\n",
              "    background-color: var(--hover-bg-color);\n",
              "    box-shadow: 0 1px 2px rgba(60, 64, 67, 0.3), 0 1px 3px 1px rgba(60, 64, 67, 0.15);\n",
              "    fill: var(--button-hover-fill-color);\n",
              "  }\n",
              "\n",
              "  .colab-df-quickchart-complete:disabled,\n",
              "  .colab-df-quickchart-complete:disabled:hover {\n",
              "    background-color: var(--disabled-bg-color);\n",
              "    fill: var(--disabled-fill-color);\n",
              "    box-shadow: none;\n",
              "  }\n",
              "\n",
              "  .colab-df-spinner {\n",
              "    border: 2px solid var(--fill-color);\n",
              "    border-color: transparent;\n",
              "    border-bottom-color: var(--fill-color);\n",
              "    animation:\n",
              "      spin 1s steps(1) infinite;\n",
              "  }\n",
              "\n",
              "  @keyframes spin {\n",
              "    0% {\n",
              "      border-color: transparent;\n",
              "      border-bottom-color: var(--fill-color);\n",
              "      border-left-color: var(--fill-color);\n",
              "    }\n",
              "    20% {\n",
              "      border-color: transparent;\n",
              "      border-left-color: var(--fill-color);\n",
              "      border-top-color: var(--fill-color);\n",
              "    }\n",
              "    30% {\n",
              "      border-color: transparent;\n",
              "      border-left-color: var(--fill-color);\n",
              "      border-top-color: var(--fill-color);\n",
              "      border-right-color: var(--fill-color);\n",
              "    }\n",
              "    40% {\n",
              "      border-color: transparent;\n",
              "      border-right-color: var(--fill-color);\n",
              "      border-top-color: var(--fill-color);\n",
              "    }\n",
              "    60% {\n",
              "      border-color: transparent;\n",
              "      border-right-color: var(--fill-color);\n",
              "    }\n",
              "    80% {\n",
              "      border-color: transparent;\n",
              "      border-right-color: var(--fill-color);\n",
              "      border-bottom-color: var(--fill-color);\n",
              "    }\n",
              "    90% {\n",
              "      border-color: transparent;\n",
              "      border-bottom-color: var(--fill-color);\n",
              "    }\n",
              "  }\n",
              "</style>\n",
              "\n",
              "  <script>\n",
              "    async function quickchart(key) {\n",
              "      const quickchartButtonEl =\n",
              "        document.querySelector('#' + key + ' button');\n",
              "      quickchartButtonEl.disabled = true;  // To prevent multiple clicks.\n",
              "      quickchartButtonEl.classList.add('colab-df-spinner');\n",
              "      try {\n",
              "        const charts = await google.colab.kernel.invokeFunction(\n",
              "            'suggestCharts', [key], {});\n",
              "      } catch (error) {\n",
              "        console.error('Error during call to suggestCharts:', error);\n",
              "      }\n",
              "      quickchartButtonEl.classList.remove('colab-df-spinner');\n",
              "      quickchartButtonEl.classList.add('colab-df-quickchart-complete');\n",
              "    }\n",
              "    (() => {\n",
              "      let quickchartButtonEl =\n",
              "        document.querySelector('#df-6e7916af-f58c-4bcc-b9c1-7fd4eef3b2ed button');\n",
              "      quickchartButtonEl.style.display =\n",
              "        google.colab.kernel.accessAllowed ? 'block' : 'none';\n",
              "    })();\n",
              "  </script>\n",
              "</div>\n",
              "\n",
              "    </div>\n",
              "  </div>\n"
            ]
          },
          "metadata": {},
          "execution_count": 3
        }
      ]
    },
    {
      "cell_type": "code",
      "source": [
        "train_data[\"Genre\"].value_counts().plot(kind=\"bar\")"
      ],
      "metadata": {
        "colab": {
          "base_uri": "https://localhost:8080/",
          "height": 535
        },
        "id": "au80S_7f_gaz",
        "outputId": "e6333e61-f883-429f-85ab-d63b4d59eb1c"
      },
      "execution_count": null,
      "outputs": [
        {
          "output_type": "execute_result",
          "data": {
            "text/plain": [
              "<Axes: >"
            ]
          },
          "metadata": {},
          "execution_count": 69
        },
        {
          "output_type": "display_data",
          "data": {
            "text/plain": [
              "<Figure size 640x480 with 1 Axes>"
            ],
            "image/png": "[encoded data removed]"
          },
          "metadata": {}
        }
      ]
    },
    {
      "cell_type": "markdown",
      "source": [
        "## Preprocessing"
      ],
      "metadata": {
        "id": "HZMG5tWsXcts"
      }
    },
    {
      "cell_type": "code",
      "source": [
        "# encode labels\n",
        "from sklearn.preprocessing import LabelEncoder\n",
        "\n",
        "encoder=LabelEncoder()\n",
        "\n",
        "train_labels=encoder.fit_transform(train_data[\"Genre\"].to_numpy())\n",
        "train_labels[:5]"
      ],
      "metadata": {
        "colab": {
          "base_uri": "https://localhost:8080/"
        },
        "id": "XRC58bIG_irp",
        "outputId": "d3661601-f9c1-46ec-a0cd-33d050a6aeed"
      },
      "execution_count": null,
      "outputs": [
        {
          "output_type": "execute_result",
          "data": {
            "text/plain": [
              "array([ 8, 24,  1,  8,  8])"
            ]
          },
          "metadata": {},
          "execution_count": 5
        }
      ]
    },
    {
      "cell_type": "code",
      "source": [
        "#get class names\n",
        "class_names=list(encoder.classes_)\n",
        "class_names"
      ],
      "metadata": {
        "colab": {
          "base_uri": "https://localhost:8080/"
        },
        "id": "oDFNRmm__kmJ",
        "outputId": "2960faf6-b9d2-456d-ea87-75138568a7bf"
      },
      "execution_count": null,
      "outputs": [
        {
          "output_type": "execute_result",
          "data": {
            "text/plain": [
              "[' action ',\n",
              " ' adult ',\n",
              " ' adventure ',\n",
              " ' animation ',\n",
              " ' biography ',\n",
              " ' comedy ',\n",
              " ' crime ',\n",
              " ' documentary ',\n",
              " ' drama ',\n",
              " ' family ',\n",
              " ' fantasy ',\n",
              " ' game-show ',\n",
              " ' history ',\n",
              " ' horror ',\n",
              " ' music ',\n",
              " ' musical ',\n",
              " ' mystery ',\n",
              " ' news ',\n",
              " ' reality-tv ',\n",
              " ' romance ',\n",
              " ' sci-fi ',\n",
              " ' short ',\n",
              " ' sport ',\n",
              " ' talk-show ',\n",
              " ' thriller ',\n",
              " ' war ',\n",
              " ' western ']"
            ]
          },
          "metadata": {},
          "execution_count": 6
        }
      ]
    },
    {
      "cell_type": "code",
      "source": [
        "#extract descriptions\n",
        "train_desc=train_data[\"Description\"].to_list()\n",
        "train_desc[:2]"
      ],
      "metadata": {
        "colab": {
          "base_uri": "https://localhost:8080/"
        },
        "id": "sNN5d5yN_mQ-",
        "outputId": "03a92087-dda2-42ab-d153-6c0d6429cde1"
      },
      "execution_count": null,
      "outputs": [
        {
          "output_type": "execute_result",
          "data": {
            "text/plain": [
              "[' Listening in to a conversation between his doctor and parents, 10-year-old Oscar learns what nobody has the courage to tell him. He only has a few weeks to live. Furious, he refuses to speak to anyone except straight-talking Rose, the lady in pink he meets on the hospital stairs. As Christmas approaches, Rose uses her fantastical experiences as a professional wrestler, her imagination, wit and charm to allow Oscar to live life and love to the full, in the company of his friends Pop Corn, Einstein, Bacon and childhood sweetheart Peggy Blue.',\n",
              " ' A brother and sister with a past incestuous relationship have a current murderous relationship. He murders the women who reject him and she murders the women who get too close to him.']"
            ]
          },
          "metadata": {},
          "execution_count": 7
        }
      ]
    },
    {
      "cell_type": "code",
      "source": [
        "# get test labels and descriptions\n",
        "test_desc=test_data[\"Description\"].to_list()\n",
        "\n",
        "test_labels=encoder.transform(test_data_solution[\"Genre\"].to_numpy())\n",
        "\n",
        "print(f\"sample description: {test_desc[4]}, label: {class_names[test_labels[4]]}\")"
      ],
      "metadata": {
        "colab": {
          "base_uri": "https://localhost:8080/"
        },
        "id": "Y2uK5on7YALn",
        "outputId": "bffffaa5-211b-49b1-b33c-b2438cbec210"
      },
      "execution_count": null,
      "outputs": [
        {
          "output_type": "stream",
          "name": "stdout",
          "text": [
            "sample description:  Before he was known internationally as a martial arts superstar, Bruce Lee had appeared in a handful of Hong Kong films as a child star in the 1940s/50s. One of these early films was The More the Merrier (1955), a.k.a. We Owe it to Our Children from the Union Film Enterprise, a family melodrama written and directed by renowned filmmaker Chin Chien (My Intimate Partners). Featuring the 14-year-old Bruce Lee and future Cantonese Opera star Yuen Siu Fai, the B&W film revolves around accountant Ming (played by Cheung Wood Yau) and his wife (Tsi Lo Lin) who suffers a miscarriage in an car accident. The couple decides to adopt a baby girl, not knowing that she's the daughter given up by Ming's poor co-worker who struggles to feed a bunch of kids. Bruce Lee plays the slacker son of the landlord (Ko Lo Chuen)., label:  drama \n"
          ]
        }
      ]
    },
    {
      "cell_type": "markdown",
      "source": [
        "## Model 1: Tf-idf vectorizer with Naive Bayes"
      ],
      "metadata": {
        "id": "19SluPWUXj1w"
      }
    },
    {
      "cell_type": "code",
      "source": [
        "from sklearn.naive_bayes import MultinomialNB\n",
        "from sklearn.feature_extraction.text import TfidfVectorizer\n",
        "from sklearn.pipeline import Pipeline"
      ],
      "metadata": {
        "id": "syNZJdC5_n4q"
      },
      "execution_count": null,
      "outputs": []
    },
    {
      "cell_type": "code",
      "source": [
        "TF_IDF_NB_Model=Pipeline([\n",
        "    (\"tfidf\", TfidfVectorizer()),\n",
        "    (\"clf\", MultinomialNB())\n",
        "])"
      ],
      "metadata": {
        "id": "3LB36jzl_pfP"
      },
      "execution_count": null,
      "outputs": []
    },
    {
      "cell_type": "code",
      "source": [
        "TF_IDF_NB_Model.fit(train_desc, train_labels)"
      ],
      "metadata": {
        "colab": {
          "base_uri": "https://localhost:8080/",
          "height": 126
        },
        "id": "T1ECyuqb_rPQ",
        "outputId": "9fe8f8c7-8ab4-48ce-99c8-f0b635994fed"
      },
      "execution_count": null,
      "outputs": [
        {
          "output_type": "execute_result",
          "data": {
            "text/plain": [
              "Pipeline(steps=[('tfidf', TfidfVectorizer()), ('clf', MultinomialNB())])"
            ],
            "text/html": [
              "<style>#sk-container-id-1 {color: black;background-color: white;}#sk-container-id-1 pre{padding: 0;}#sk-container-id-1 div.sk-toggleable {background-color: white;}#sk-container-id-1 label.sk-toggleable__label {cursor: pointer;display: block;width: 100%;margin-bottom: 0;padding: 0.3em;box-sizing: border-box;text-align: center;}#sk-container-id-1 label.sk-toggleable__label-arrow:before {content: \"▸\";float: left;margin-right: 0.25em;color: #696969;}#sk-container-id-1 label.sk-toggleable__label-arrow:hover:before {color: black;}#sk-container-id-1 div.sk-estimator:hover label.sk-toggleable__label-arrow:before {color: black;}#sk-container-id-1 div.sk-toggleable__content {max-height: 0;max-width: 0;overflow: hidden;text-align: left;background-color: #f0f8ff;}#sk-container-id-1 div.sk-toggleable__content pre {margin: 0.2em;color: black;border-radius: 0.25em;background-color: #f0f8ff;}#sk-container-id-1 input.sk-toggleable__control:checked~div.sk-toggleable__content {max-height: 200px;max-width: 100%;overflow: auto;}#sk-container-id-1 input.sk-toggleable__control:checked~label.sk-toggleable__label-arrow:before {content: \"▾\";}#sk-container-id-1 div.sk-estimator input.sk-toggleable__control:checked~label.sk-toggleable__label {background-color: #d4ebff;}#sk-container-id-1 div.sk-label input.sk-toggleable__control:checked~label.sk-toggleable__label {background-color: #d4ebff;}#sk-container-id-1 input.sk-hidden--visually {border: 0;clip: rect(1px 1px 1px 1px);clip: rect(1px, 1px, 1px, 1px);height: 1px;margin: -1px;overflow: hidden;padding: 0;position: absolute;width: 1px;}#sk-container-id-1 div.sk-estimator {font-family: monospace;background-color: #f0f8ff;border: 1px dotted black;border-radius: 0.25em;box-sizing: border-box;margin-bottom: 0.5em;}#sk-container-id-1 div.sk-estimator:hover {background-color: #d4ebff;}#sk-container-id-1 div.sk-parallel-item::after {content: \"\";width: 100%;border-bottom: 1px solid gray;flex-grow: 1;}#sk-container-id-1 div.sk-label:hover label.sk-toggleable__label {background-color: #d4ebff;}#sk-container-id-1 div.sk-serial::before {content: \"\";position: absolute;border-left: 1px solid gray;box-sizing: border-box;top: 0;bottom: 0;left: 50%;z-index: 0;}#sk-container-id-1 div.sk-serial {display: flex;flex-direction: column;align-items: center;background-color: white;padding-right: 0.2em;padding-left: 0.2em;position: relative;}#sk-container-id-1 div.sk-item {position: relative;z-index: 1;}#sk-container-id-1 div.sk-parallel {display: flex;align-items: stretch;justify-content: center;background-color: white;position: relative;}#sk-container-id-1 div.sk-item::before, #sk-container-id-1 div.sk-parallel-item::before {content: \"\";position: absolute;border-left: 1px solid gray;box-sizing: border-box;top: 0;bottom: 0;left: 50%;z-index: -1;}#sk-container-id-1 div.sk-parallel-item {display: flex;flex-direction: column;z-index: 1;position: relative;background-color: white;}#sk-container-id-1 div.sk-parallel-item:first-child::after {align-self: flex-end;width: 50%;}#sk-container-id-1 div.sk-parallel-item:last-child::after {align-self: flex-start;width: 50%;}#sk-container-id-1 div.sk-parallel-item:only-child::after {width: 0;}#sk-container-id-1 div.sk-dashed-wrapped {border: 1px dashed gray;margin: 0 0.4em 0.5em 0.4em;box-sizing: border-box;padding-bottom: 0.4em;background-color: white;}#sk-container-id-1 div.sk-label label {font-family: monospace;font-weight: bold;display: inline-block;line-height: 1.2em;}#sk-container-id-1 div.sk-label-container {text-align: center;}#sk-container-id-1 div.sk-container {/* jupyter's `normalize.less` sets `[hidden] { display: none; }` but bootstrap.min.css set `[hidden] { display: none !important; }` so we also need the `!important` here to be able to override the default hidden behavior on the sphinx rendered scikit-learn.org. See: https://github.com/scikit-learn/scikit-learn/issues/21755 */display: inline-block !important;position: relative;}#sk-container-id-1 div.sk-text-repr-fallback {display: none;}</style><div id=\"sk-container-id-1\" class=\"sk-top-container\"><div class=\"sk-text-repr-fallback\"><pre>Pipeline(steps=[(&#x27;tfidf&#x27;, TfidfVectorizer()), (&#x27;clf&#x27;, MultinomialNB())])</pre><b>In a Jupyter environment, please rerun this cell to show the HTML representation or trust the notebook. <br />On GitHub, the HTML representation is unable to render, please try loading this page with nbviewer.org.</b></div><div class=\"sk-container\" hidden><div class=\"sk-item sk-dashed-wrapped\"><div class=\"sk-label-container\"><div class=\"sk-label sk-toggleable\"><input class=\"sk-toggleable__control sk-hidden--visually\" id=\"sk-estimator-id-1\" type=\"checkbox\" ><label for=\"sk-estimator-id-1\" class=\"sk-toggleable__label sk-toggleable__label-arrow\">Pipeline</label><div class=\"sk-toggleable__content\"><pre>Pipeline(steps=[(&#x27;tfidf&#x27;, TfidfVectorizer()), (&#x27;clf&#x27;, MultinomialNB())])</pre></div></div></div><div class=\"sk-serial\"><div class=\"sk-item\"><div class=\"sk-estimator sk-toggleable\"><input class=\"sk-toggleable__control sk-hidden--visually\" id=\"sk-estimator-id-2\" type=\"checkbox\" ><label for=\"sk-estimator-id-2\" class=\"sk-toggleable__label sk-toggleable__label-arrow\">TfidfVectorizer</label><div class=\"sk-toggleable__content\"><pre>TfidfVectorizer()</pre></div></div></div><div class=\"sk-item\"><div class=\"sk-estimator sk-toggleable\"><input class=\"sk-toggleable__control sk-hidden--visually\" id=\"sk-estimator-id-3\" type=\"checkbox\" ><label for=\"sk-estimator-id-3\" class=\"sk-toggleable__label sk-toggleable__label-arrow\">MultinomialNB</label><div class=\"sk-toggleable__content\"><pre>MultinomialNB()</pre></div></div></div></div></div></div></div>"
            ]
          },
          "metadata": {},
          "execution_count": 11
        }
      ]
    },
    {
      "cell_type": "code",
      "source": [
        "model_score=TF_IDF_NB_Model.score(test_desc, test_labels)\n",
        "model_score"
      ],
      "metadata": {
        "colab": {
          "base_uri": "https://localhost:8080/"
        },
        "id": "mNGhKFnw_vl7",
        "outputId": "29b80486-c9cf-4f23-8f3d-4811db41c7dd"
      },
      "execution_count": null,
      "outputs": [
        {
          "output_type": "execute_result",
          "data": {
            "text/plain": [
              "0.4426752767527675"
            ]
          },
          "metadata": {},
          "execution_count": 12
        }
      ]
    },
    {
      "cell_type": "markdown",
      "source": [
        "## Model 2: Feature Extraction with pretrained token embeddings"
      ],
      "metadata": {
        "id": "CoxFgK-nYDUo"
      }
    },
    {
      "cell_type": "markdown",
      "source": [
        "Universal Sentence Encoder (USE) pretrained embeddings"
      ],
      "metadata": {
        "id": "y-VWF9aBYKiC"
      }
    },
    {
      "cell_type": "code",
      "source": [
        "#create one hot encoded labels\n",
        "import tensorflow as tf\n",
        "from sklearn.preprocessing import OneHotEncoder\n",
        "one_hot_encoder=OneHotEncoder(sparse_output=False)\n",
        "train_labels_one_hot=one_hot_encoder.fit_transform(train_data[\"Genre\"].to_numpy().reshape(-1, 1))\n",
        "test_labels_one_hot=one_hot_encoder.transform(test_data_solution[\"Genre\"].to_numpy().reshape(-1, 1))"
      ],
      "metadata": {
        "id": "PNqIYl-sYvgu"
      },
      "execution_count": null,
      "outputs": []
    },
    {
      "cell_type": "code",
      "source": [
        "# create prefetch datasets of the train and test data\n",
        "train_dataset=tf.data.Dataset.from_tensor_slices((train_desc, train_labels_one_hot))\n",
        "\n",
        "test_dataset=tf.data.Dataset.from_tensor_slices((test_desc, test_labels_one_hot))\n",
        "\n",
        "train_dataset=train_dataset.batch(32).prefetch(tf.data.AUTOTUNE)\n",
        "\n",
        "test_dataset=test_dataset.batch(32).prefetch(tf.data.AUTOTUNE)\n",
        "train_dataset"
      ],
      "metadata": {
        "colab": {
          "base_uri": "https://localhost:8080/"
        },
        "id": "Ij2lYxFAYwCT",
        "outputId": "9dbfed37-0797-4745-a3f0-cb7dfdf95d5c"
      },
      "execution_count": null,
      "outputs": [
        {
          "output_type": "execute_result",
          "data": {
            "text/plain": [
              "<_PrefetchDataset element_spec=(TensorSpec(shape=(None,), dtype=tf.string, name=None), TensorSpec(shape=(None, 27), dtype=tf.float64, name=None))>"
            ]
          },
          "metadata": {},
          "execution_count": 16
        }
      ]
    },
    {
      "cell_type": "code",
      "source": [
        "import tensorflow_hub as hub\n",
        "# Download pretrained TensorFlow Hub USE\n",
        "sentence_encoder=hub.KerasLayer(\"https://www.kaggle.com/models/google/universal-sentence-encoder/frameworks/TensorFlow2/variations/universal-sentence-encoder/versions/2\",\n",
        "                                input_shape=[],\n",
        "                                dtype=tf.string,\n",
        "                                trainable=False,\n",
        "                                name=\"USE\")"
      ],
      "metadata": {
        "id": "Ua68VD42YTay"
      },
      "execution_count": null,
      "outputs": []
    },
    {
      "cell_type": "code",
      "source": [
        "import random\n",
        "# Test out the pretrained embedding on a random sentence\n",
        "random_sentence=random.choice(train_desc)\n",
        "print(random_sentence)\n",
        "sample_USE_embed=sentence_encoder([random_sentence])\n",
        "sample_USE_embed"
      ],
      "metadata": {
        "colab": {
          "base_uri": "https://localhost:8080/"
        },
        "id": "kmFZ8YsBYjIV",
        "outputId": "06ebcba5-c1d6-4445-cbf7-a1745102b412"
      },
      "execution_count": null,
      "outputs": [
        {
          "output_type": "stream",
          "name": "stdout",
          "text": [
            " Two struggling girls from different walks of life encounter a duffle bag with five million dollars cash that belongs to some gangsters. In their effort to escape the end up, inadvertently taking the identities of two heirs of a hotel emporium.\n"
          ]
        },
        {
          "output_type": "execute_result",
          "data": {
            "text/plain": [
              "<tf.Tensor: shape=(1, 512), dtype=float32, numpy=\n",
              "array([[-3.86260487e-02, -2.77457442e-02,  2.40964051e-02,\n",
              "        -1.75746977e-02,  6.00953437e-02,  4.22477834e-02,\n",
              "        -4.78650853e-02, -1.60629787e-02, -6.57756701e-02,\n",
              "        -8.28809887e-02,  3.82726341e-02, -4.62081805e-02,\n",
              "        -1.27737485e-02,  1.22576077e-02,  2.73383483e-02,\n",
              "        -7.89963901e-02, -5.60082272e-02, -2.11192369e-02,\n",
              "         1.96170025e-02,  4.48858328e-02, -4.18786444e-02,\n",
              "        -4.09948453e-02,  7.34349713e-02, -5.38076460e-02,\n",
              "        -6.36390829e-03,  3.23119536e-02,  5.36293583e-03,\n",
              "         3.75671200e-02,  1.57624613e-02, -6.43857196e-02,\n",
              "         7.27765262e-02, -1.26491254e-02, -5.93167264e-04,\n",
              "        -7.47878402e-02, -4.27716486e-02,  1.85789932e-02,\n",
              "        -3.88470367e-02,  4.50460166e-02, -7.39879236e-02,\n",
              "         5.32047674e-02,  6.80092815e-03, -4.17806320e-02,\n",
              "        -4.62215692e-02, -6.19656593e-02, -3.10108867e-02,\n",
              "        -8.16912130e-02,  2.61129495e-02, -4.12250161e-02,\n",
              "         4.10676785e-02, -3.91399115e-02,  1.03305243e-02,\n",
              "        -6.03508949e-02,  1.97323002e-02, -6.00050762e-02,\n",
              "        -4.79464568e-02, -3.42127904e-02, -6.53782114e-02,\n",
              "         5.79664949e-03,  4.16678637e-02,  1.42015163e-02,\n",
              "        -6.84864894e-02, -8.76771472e-03, -7.26763085e-02,\n",
              "        -9.27814934e-03,  2.22243252e-03, -1.54025957e-03,\n",
              "         4.18693051e-02,  4.55888594e-03, -2.33897772e-02,\n",
              "         6.04455359e-02,  9.39470343e-03,  7.92338401e-02,\n",
              "         2.69300267e-02,  3.83837782e-02, -4.36165743e-02,\n",
              "         2.22834367e-02,  1.66719574e-02,  1.46458438e-02,\n",
              "         1.73920598e-02,  5.29673547e-02, -5.09664565e-02,\n",
              "         2.44305134e-02,  5.58181480e-02, -3.66795883e-02,\n",
              "         7.23216508e-04,  4.55304682e-02, -6.67326227e-02,\n",
              "         2.27481090e-02, -7.43076280e-02,  3.69429961e-02,\n",
              "        -1.74018536e-02,  1.70966964e-02,  3.54308859e-02,\n",
              "         4.27010329e-03,  8.99926201e-03,  3.64659652e-02,\n",
              "         3.84645723e-02, -2.34403070e-02,  8.05354938e-02,\n",
              "        -1.19011942e-02, -4.19176817e-02, -3.42780761e-02,\n",
              "        -5.16624637e-02,  8.47208127e-03,  2.94938609e-02,\n",
              "         1.06433155e-02, -5.36031500e-02,  1.11092739e-02,\n",
              "         4.65228632e-02,  7.04532415e-02, -7.61871552e-03,\n",
              "        -5.91963865e-02,  3.39234881e-02,  5.86811006e-02,\n",
              "        -1.94139127e-02,  2.85071023e-02,  1.55408785e-03,\n",
              "        -1.14623206e-02,  3.07631046e-02, -4.17082757e-02,\n",
              "         6.24881834e-02, -1.21176988e-03,  4.34393138e-02,\n",
              "        -8.24731588e-03,  5.19745611e-02,  2.97001787e-02,\n",
              "         2.27191765e-02, -3.90695594e-03, -2.78686527e-02,\n",
              "        -2.00858377e-02, -2.10112836e-02, -6.81748837e-02,\n",
              "         6.22578077e-02, -3.13130245e-02,  2.76777521e-02,\n",
              "        -3.45228538e-02,  2.34633218e-03,  4.46757972e-02,\n",
              "        -6.00245409e-02, -6.51999936e-02,  4.74888235e-02,\n",
              "         8.24970156e-02, -3.83307263e-02,  2.46468019e-02,\n",
              "         5.01231439e-02, -2.47058272e-02,  6.85762241e-02,\n",
              "         2.09944993e-02, -6.00922257e-02,  5.85598312e-02,\n",
              "        -1.46576222e-02,  1.49209024e-02,  7.15219676e-02,\n",
              "         6.22482076e-02, -5.01708779e-03, -5.53454719e-02,\n",
              "         2.44483724e-02,  7.41054490e-02, -3.63434814e-02,\n",
              "         6.69035092e-02, -6.12386130e-02,  1.83008760e-02,\n",
              "        -6.42583668e-02,  8.25094879e-02, -2.18942929e-02,\n",
              "        -6.46736324e-02,  7.17787296e-02,  1.47875492e-02,\n",
              "        -1.07388459e-02, -5.85641898e-02,  3.59738953e-02,\n",
              "        -4.63417880e-02,  2.14003306e-02,  2.48070136e-02,\n",
              "        -6.58681989e-03, -5.95987327e-02, -2.52244435e-03,\n",
              "         5.00342287e-02,  1.21629285e-02,  7.61319622e-02,\n",
              "         2.01724041e-02, -2.27191839e-02,  1.81022156e-02,\n",
              "        -6.38245270e-02,  3.48542593e-02,  1.73482299e-02,\n",
              "         1.19674243e-02,  4.94897664e-02,  2.28124969e-02,\n",
              "        -4.82803062e-02, -1.06622837e-02,  6.94110468e-02,\n",
              "        -7.86542613e-03, -1.04332604e-02,  3.03984452e-02,\n",
              "        -3.54007147e-02,  4.47916612e-02,  1.39936944e-02,\n",
              "         2.80788802e-02, -3.22902538e-02, -1.47927105e-02,\n",
              "        -6.91658854e-02,  3.78175899e-02,  7.00310571e-03,\n",
              "         9.99330822e-03, -4.18248475e-02, -1.41678173e-02,\n",
              "        -4.03294945e-03, -7.16562718e-02, -2.39975378e-02,\n",
              "         2.47356459e-03,  1.61828473e-02,  8.21739808e-02,\n",
              "         1.92282943e-03, -4.52551246e-02,  6.06118776e-02,\n",
              "         5.86468959e-03,  5.74595062e-03,  1.17315641e-02,\n",
              "        -7.57984892e-02, -3.95861715e-02, -6.67558834e-02,\n",
              "        -6.02627173e-02, -7.33745620e-02,  7.07281521e-03,\n",
              "         6.82328194e-02,  2.89985277e-02, -2.07262747e-02,\n",
              "        -2.10847389e-02, -6.84436411e-02,  7.61689171e-02,\n",
              "         1.42213479e-02, -5.10283560e-03, -8.59545469e-02,\n",
              "         7.17894686e-03, -6.27182797e-02, -4.84495014e-02,\n",
              "        -1.52268251e-02,  2.65369359e-02,  6.07923046e-02,\n",
              "         3.05596646e-02, -2.26272121e-02, -7.84173235e-02,\n",
              "        -5.95068559e-02, -1.01769743e-02,  6.32929355e-02,\n",
              "         8.21988971e-04,  6.28531277e-02,  8.06987733e-02,\n",
              "         6.66303793e-03,  2.54291166e-02,  3.62484008e-02,\n",
              "         3.64101082e-02,  2.47368831e-02,  1.99833605e-02,\n",
              "        -1.28205186e-02, -7.78538873e-04,  7.03957230e-02,\n",
              "         2.18259040e-02,  1.22823892e-02, -2.85731219e-02,\n",
              "         6.16151989e-02, -5.86995892e-02, -5.03052212e-02,\n",
              "        -3.65474001e-02,  5.80414161e-02,  7.17402250e-02,\n",
              "        -6.63329214e-02, -2.06817519e-02, -6.06072024e-02,\n",
              "        -6.17568642e-02,  2.87598222e-02,  3.57077084e-02,\n",
              "        -6.19665645e-02, -4.74904515e-02, -3.89050134e-02,\n",
              "         5.87945171e-02,  4.41883393e-02, -1.53343659e-02,\n",
              "         1.08301640e-02, -2.30926070e-02, -2.34341267e-02,\n",
              "        -7.41945114e-03,  5.24626188e-02, -6.94679692e-02,\n",
              "        -3.52596641e-02,  3.09244115e-02,  4.74112742e-02,\n",
              "         7.56452680e-02, -8.64609086e-04, -4.92785079e-03,\n",
              "        -1.92349907e-02, -1.02515081e-02,  4.67929877e-02,\n",
              "         2.37843040e-02, -1.15091493e-02, -1.68434735e-02,\n",
              "         4.59086299e-02, -1.99412331e-02,  2.12849118e-02,\n",
              "        -6.63531721e-02,  5.44286482e-02,  1.18692294e-02,\n",
              "         5.01597449e-02,  2.17495169e-02, -5.16331978e-02,\n",
              "        -1.17734279e-02, -6.11778023e-03, -1.75920185e-02,\n",
              "        -2.89682113e-03, -7.08993897e-02, -7.24826530e-02,\n",
              "         5.84683605e-02, -4.25172001e-02,  5.54541871e-03,\n",
              "         6.40252307e-02,  3.40191834e-02,  7.28488490e-02,\n",
              "         8.59550685e-02,  7.70084038e-02,  4.38828357e-02,\n",
              "         5.86228408e-02, -6.13832995e-02, -2.22171992e-02,\n",
              "        -4.10138369e-02,  6.05878457e-02, -5.03859781e-02,\n",
              "         6.54452518e-02,  1.37658184e-02, -6.68309769e-03,\n",
              "        -3.38084847e-02, -2.91018356e-02, -1.98883973e-02,\n",
              "         5.01633771e-02, -5.36876693e-02,  5.08944249e-05,\n",
              "        -2.54661031e-02, -2.88235210e-02, -3.09122764e-02,\n",
              "         7.70336464e-02,  4.59902640e-03,  1.05917351e-02,\n",
              "        -6.48312345e-02, -4.22173962e-02,  9.00438894e-03,\n",
              "        -1.39710577e-02,  3.42518389e-02,  1.60654392e-02,\n",
              "         6.68608621e-02, -4.95532975e-02, -6.45992160e-02,\n",
              "         3.54375392e-02,  4.54795435e-02,  3.77935469e-02,\n",
              "        -8.69036466e-02,  2.64440048e-02, -8.10163990e-02,\n",
              "         9.25998390e-03,  4.69707735e-02, -3.40579514e-04,\n",
              "         4.75868285e-02, -5.67654185e-02,  4.25512940e-02,\n",
              "         1.20087173e-02,  6.65076375e-02, -5.36301099e-02,\n",
              "         7.43928701e-02, -1.12913270e-02,  5.09976074e-02,\n",
              "        -4.69012484e-02,  9.76067316e-03,  4.73060384e-02,\n",
              "        -7.43771624e-03,  7.94013068e-02, -3.80065255e-02,\n",
              "         2.89907083e-02,  3.50456648e-02,  1.18530653e-02,\n",
              "         4.57313582e-02, -3.60482112e-02, -1.40213827e-02,\n",
              "         4.73183282e-02,  3.24384905e-02, -3.14762332e-02,\n",
              "        -4.68024015e-02, -6.42278939e-02, -5.13638332e-02,\n",
              "        -2.82356348e-02,  3.83635797e-02, -6.32529110e-02,\n",
              "        -7.22648129e-02,  4.88281883e-02,  7.03681931e-02,\n",
              "         2.84827384e-03,  6.49802983e-02,  2.49370821e-02,\n",
              "         5.53045720e-02,  4.70209308e-02, -1.89487766e-02,\n",
              "        -8.27854779e-03,  3.56665142e-02,  1.36499619e-02,\n",
              "        -1.26242191e-02, -4.90937307e-02, -3.70388106e-02,\n",
              "         2.45750993e-02,  4.89660837e-02,  4.58485186e-02,\n",
              "         6.47837063e-03, -8.00801441e-02,  1.65845491e-02,\n",
              "        -6.36778260e-03,  2.97352839e-02, -1.18644023e-02,\n",
              "        -5.12045026e-02, -3.83359119e-02, -2.45240028e-03,\n",
              "        -7.35475346e-02,  4.68448736e-02, -3.05201262e-02,\n",
              "         4.08596322e-02, -1.71437413e-02,  3.61812524e-02,\n",
              "         3.25887352e-02,  5.67080602e-02,  6.92808554e-02,\n",
              "        -2.16364674e-02, -5.34804128e-02, -2.67225616e-02,\n",
              "         1.24108782e-02,  3.11442260e-02, -1.81047246e-02,\n",
              "        -7.45466575e-02, -4.26860526e-02,  5.81481792e-02,\n",
              "         2.85730399e-02,  5.03655188e-02,  5.96084371e-02,\n",
              "        -5.75644560e-02, -1.77229475e-02,  3.52392793e-02,\n",
              "         6.50275797e-02,  3.72642688e-02,  4.52960841e-02,\n",
              "        -4.98382449e-02, -1.26089118e-02,  6.38836399e-02,\n",
              "        -1.15676029e-02, -6.81983903e-02,  5.19398861e-02,\n",
              "         1.22530134e-02,  4.70259711e-02,  9.56637319e-04,\n",
              "         6.78560063e-02, -2.10039709e-02,  5.95516637e-02,\n",
              "        -5.52131496e-02,  2.02717744e-02, -8.44915956e-02,\n",
              "         7.92958774e-03,  4.43386100e-03,  6.36433512e-02,\n",
              "        -5.76701201e-03, -3.06901690e-02,  3.70918550e-02,\n",
              "         5.30256890e-02,  2.22571976e-02,  2.27161013e-02,\n",
              "         6.12468012e-02, -5.29412460e-03, -7.36067146e-02,\n",
              "        -1.54547170e-02, -2.23347940e-03,  5.35273142e-02,\n",
              "         4.83672554e-03,  7.08546415e-02,  3.87647599e-02,\n",
              "         5.46600111e-02,  1.76585335e-02, -6.69673681e-02,\n",
              "         6.36711195e-02, -4.35956419e-02, -3.71769862e-03,\n",
              "        -5.02747893e-02,  5.57936616e-02, -6.88072890e-02,\n",
              "         1.12041458e-02,  6.57656938e-02,  7.17923045e-02,\n",
              "         5.74473962e-02,  8.49503577e-02,  4.64651324e-02,\n",
              "        -2.44612452e-02,  7.48775154e-03,  2.49242522e-02,\n",
              "         2.59298272e-02,  4.38404344e-02, -4.65300195e-02,\n",
              "         2.10598279e-02,  5.17341457e-02, -6.48490340e-02,\n",
              "         3.14638093e-02,  1.01576082e-03, -6.55276747e-03,\n",
              "        -7.65680075e-02, -9.93385352e-03,  2.81791296e-02,\n",
              "        -6.26466721e-02, -6.76076785e-02, -4.50017042e-02,\n",
              "         4.67262790e-02, -1.54276413e-03]], dtype=float32)>"
            ]
          },
          "metadata": {},
          "execution_count": 18
        }
      ]
    },
    {
      "cell_type": "code",
      "source": [
        "# Define feature extraction model using TF Hub layer\n",
        "inputs=tf.keras.layers.Input(shape=[], dtype=tf.string)\n",
        "x=sentence_encoder(inputs) # tokenize text and create sequence embeddings using USE\n",
        "x=tf.keras.layers.Dense(256, activation=\"relu\")(x)\n",
        "outputs=tf.keras.layers.Dense(len(class_names), activation=\"softmax\")(x)\n",
        "Model_2=tf.keras.Model(inputs, outputs)\n",
        "\n",
        "# Compile the model\n",
        "Model_2.compile(loss=\"categorical_crossentropy\", optimizer=\"adam\", metrics=\"accuracy\")"
      ],
      "metadata": {
        "id": "cPjfOmTSYkPO"
      },
      "execution_count": null,
      "outputs": []
    },
    {
      "cell_type": "code",
      "source": [
        "Model_2.summary()"
      ],
      "metadata": {
        "colab": {
          "base_uri": "https://localhost:8080/"
        },
        "id": "ZvuBhv_4YsuX",
        "outputId": "f2e1924d-66a7-4b15-8520-719b7f8c6da7"
      },
      "execution_count": null,
      "outputs": [
        {
          "output_type": "stream",
          "name": "stdout",
          "text": [
            "Model: \"model\"\n",
            "_________________________________________________________________\n",
            " Layer (type)                Output Shape              Param #   \n",
            "=================================================================\n",
            " input_1 (InputLayer)        [(None,)]                 0         \n",
            "                                                                 \n",
            " USE (KerasLayer)            (None, 512)               256797824 \n",
            "                                                                 \n",
            " dense (Dense)               (None, 256)               131328    \n",
            "                                                                 \n",
            " dense_1 (Dense)             (None, 27)                6939      \n",
            "                                                                 \n",
            "=================================================================\n",
            "Total params: 256936091 (980.13 MB)\n",
            "Trainable params: 138267 (540.11 KB)\n",
            "Non-trainable params: 256797824 (979.61 MB)\n",
            "_________________________________________________________________\n"
          ]
        }
      ]
    },
    {
      "cell_type": "code",
      "source": [
        "History_model_2=Model_2.fit(train_dataset, steps_per_epoch=int(0.1*len(train_dataset)),\n",
        "                            epochs=10, validation_data= test_dataset, validation_steps=int(0.1*len(test_dataset)))"
      ],
      "metadata": {
        "colab": {
          "base_uri": "https://localhost:8080/"
        },
        "id": "whsNo0QiY0XB",
        "outputId": "322a518c-77eb-420d-e846-f022c0741144"
      },
      "execution_count": null,
      "outputs": [
        {
          "output_type": "stream",
          "name": "stdout",
          "text": [
            "Epoch 1/10\n",
            "169/169 [==============================] - 12s 55ms/step - loss: 2.1030 - accuracy: 0.4462 - val_loss: 1.7312 - val_accuracy: 0.5039\n",
            "Epoch 2/10\n",
            "169/169 [==============================] - 9s 52ms/step - loss: 1.6726 - accuracy: 0.5141 - val_loss: 1.5310 - val_accuracy: 0.5453\n",
            "Epoch 3/10\n",
            "169/169 [==============================] - 8s 49ms/step - loss: 1.5032 - accuracy: 0.5442 - val_loss: 1.4295 - val_accuracy: 0.5688\n",
            "Epoch 4/10\n",
            "169/169 [==============================] - 9s 53ms/step - loss: 1.4499 - accuracy: 0.5614 - val_loss: 1.3697 - val_accuracy: 0.5786\n",
            "Epoch 5/10\n",
            "169/169 [==============================] - 7s 40ms/step - loss: 1.4029 - accuracy: 0.5729 - val_loss: 1.3652 - val_accuracy: 0.5747\n",
            "Epoch 6/10\n",
            "169/169 [==============================] - 9s 51ms/step - loss: 1.3843 - accuracy: 0.5662 - val_loss: 1.3309 - val_accuracy: 0.5865\n",
            "Epoch 7/10\n",
            "169/169 [==============================] - 7s 41ms/step - loss: 1.3706 - accuracy: 0.5758 - val_loss: 1.3103 - val_accuracy: 0.5906\n",
            "Epoch 8/10\n",
            "169/169 [==============================] - 10s 61ms/step - loss: 1.3377 - accuracy: 0.5843 - val_loss: 1.3096 - val_accuracy: 0.5845\n",
            "Epoch 9/10\n",
            "169/169 [==============================] - 9s 53ms/step - loss: 1.3138 - accuracy: 0.5895 - val_loss: 1.3010 - val_accuracy: 0.5926\n",
            "Epoch 10/10\n",
            "169/169 [==============================] - 9s 52ms/step - loss: 1.3507 - accuracy: 0.5790 - val_loss: 1.2812 - val_accuracy: 0.5969\n"
          ]
        }
      ]
    },
    {
      "cell_type": "code",
      "source": [
        "Model_2.evaluate(test_dataset)"
      ],
      "metadata": {
        "colab": {
          "base_uri": "https://localhost:8080/"
        },
        "id": "S6Irp9KYY2NO",
        "outputId": "8a7b9f58-207a-4dd0-e2c6-a22f7755164c"
      },
      "execution_count": null,
      "outputs": [
        {
          "output_type": "stream",
          "name": "stdout",
          "text": [
            "1694/1694 [==============================] - 46s 27ms/step - loss: 1.3218 - accuracy: 0.5889\n"
          ]
        },
        {
          "output_type": "execute_result",
          "data": {
            "text/plain": [
              "[1.3217682838439941, 0.5888745188713074]"
            ]
          },
          "metadata": {},
          "execution_count": 22
        }
      ]
    },
    {
      "cell_type": "markdown",
      "source": [
        "## Model 3: SVM"
      ],
      "metadata": {
        "id": "LSDFoJMyY4HI"
      }
    },
    {
      "cell_type": "code",
      "source": [
        "from sklearn.model_selection import train_test_split\n",
        "from sklearn.svm import LinearSVC\n",
        "\n",
        "text_vectorizer=TfidfVectorizer()\n",
        "train_desc_vec = text_vectorizer.fit_transform(train_data['Description'])\n",
        "test_desc_vec = text_vectorizer.transform(test_data['Description'])\n",
        "\n",
        "X_train, X_valid, y_train, y_valid=train_test_split(train_desc_vec,\n",
        "                                                              train_labels,\n",
        "                                                              test_size=0.2,\n",
        "                                                              random_state=42)\n"
      ],
      "metadata": {
        "id": "_41tj35WeYjs"
      },
      "execution_count": null,
      "outputs": []
    },
    {
      "cell_type": "code",
      "source": [
        "SVC_Model=LinearSVC()\n",
        "SVC_Model.fit(X_train, y_train)"
      ],
      "metadata": {
        "colab": {
          "base_uri": "https://localhost:8080/",
          "height": 75
        },
        "id": "ObWWsCTSq7m8",
        "outputId": "4208582a-7a0a-483d-8bec-79362cc20da4"
      },
      "execution_count": null,
      "outputs": [
        {
          "output_type": "execute_result",
          "data": {
            "text/plain": [
              "LinearSVC()"
            ],
            "text/html": [
              "<style>#sk-container-id-3 {color: black;background-color: white;}#sk-container-id-3 pre{padding: 0;}#sk-container-id-3 div.sk-toggleable {background-color: white;}#sk-container-id-3 label.sk-toggleable__label {cursor: pointer;display: block;width: 100%;margin-bottom: 0;padding: 0.3em;box-sizing: border-box;text-align: center;}#sk-container-id-3 label.sk-toggleable__label-arrow:before {content: \"▸\";float: left;margin-right: 0.25em;color: #696969;}#sk-container-id-3 label.sk-toggleable__label-arrow:hover:before {color: black;}#sk-container-id-3 div.sk-estimator:hover label.sk-toggleable__label-arrow:before {color: black;}#sk-container-id-3 div.sk-toggleable__content {max-height: 0;max-width: 0;overflow: hidden;text-align: left;background-color: #f0f8ff;}#sk-container-id-3 div.sk-toggleable__content pre {margin: 0.2em;color: black;border-radius: 0.25em;background-color: #f0f8ff;}#sk-container-id-3 input.sk-toggleable__control:checked~div.sk-toggleable__content {max-height: 200px;max-width: 100%;overflow: auto;}#sk-container-id-3 input.sk-toggleable__control:checked~label.sk-toggleable__label-arrow:before {content: \"▾\";}#sk-container-id-3 div.sk-estimator input.sk-toggleable__control:checked~label.sk-toggleable__label {background-color: #d4ebff;}#sk-container-id-3 div.sk-label input.sk-toggleable__control:checked~label.sk-toggleable__label {background-color: #d4ebff;}#sk-container-id-3 input.sk-hidden--visually {border: 0;clip: rect(1px 1px 1px 1px);clip: rect(1px, 1px, 1px, 1px);height: 1px;margin: -1px;overflow: hidden;padding: 0;position: absolute;width: 1px;}#sk-container-id-3 div.sk-estimator {font-family: monospace;background-color: #f0f8ff;border: 1px dotted black;border-radius: 0.25em;box-sizing: border-box;margin-bottom: 0.5em;}#sk-container-id-3 div.sk-estimator:hover {background-color: #d4ebff;}#sk-container-id-3 div.sk-parallel-item::after {content: \"\";width: 100%;border-bottom: 1px solid gray;flex-grow: 1;}#sk-container-id-3 div.sk-label:hover label.sk-toggleable__label {background-color: #d4ebff;}#sk-container-id-3 div.sk-serial::before {content: \"\";position: absolute;border-left: 1px solid gray;box-sizing: border-box;top: 0;bottom: 0;left: 50%;z-index: 0;}#sk-container-id-3 div.sk-serial {display: flex;flex-direction: column;align-items: center;background-color: white;padding-right: 0.2em;padding-left: 0.2em;position: relative;}#sk-container-id-3 div.sk-item {position: relative;z-index: 1;}#sk-container-id-3 div.sk-parallel {display: flex;align-items: stretch;justify-content: center;background-color: white;position: relative;}#sk-container-id-3 div.sk-item::before, #sk-container-id-3 div.sk-parallel-item::before {content: \"\";position: absolute;border-left: 1px solid gray;box-sizing: border-box;top: 0;bottom: 0;left: 50%;z-index: -1;}#sk-container-id-3 div.sk-parallel-item {display: flex;flex-direction: column;z-index: 1;position: relative;background-color: white;}#sk-container-id-3 div.sk-parallel-item:first-child::after {align-self: flex-end;width: 50%;}#sk-container-id-3 div.sk-parallel-item:last-child::after {align-self: flex-start;width: 50%;}#sk-container-id-3 div.sk-parallel-item:only-child::after {width: 0;}#sk-container-id-3 div.sk-dashed-wrapped {border: 1px dashed gray;margin: 0 0.4em 0.5em 0.4em;box-sizing: border-box;padding-bottom: 0.4em;background-color: white;}#sk-container-id-3 div.sk-label label {font-family: monospace;font-weight: bold;display: inline-block;line-height: 1.2em;}#sk-container-id-3 div.sk-label-container {text-align: center;}#sk-container-id-3 div.sk-container {/* jupyter's `normalize.less` sets `[hidden] { display: none; }` but bootstrap.min.css set `[hidden] { display: none !important; }` so we also need the `!important` here to be able to override the default hidden behavior on the sphinx rendered scikit-learn.org. See: https://github.com/scikit-learn/scikit-learn/issues/21755 */display: inline-block !important;position: relative;}#sk-container-id-3 div.sk-text-repr-fallback {display: none;}</style><div id=\"sk-container-id-3\" class=\"sk-top-container\"><div class=\"sk-text-repr-fallback\"><pre>LinearSVC()</pre><b>In a Jupyter environment, please rerun this cell to show the HTML representation or trust the notebook. <br />On GitHub, the HTML representation is unable to render, please try loading this page with nbviewer.org.</b></div><div class=\"sk-container\" hidden><div class=\"sk-item\"><div class=\"sk-estimator sk-toggleable\"><input class=\"sk-toggleable__control sk-hidden--visually\" id=\"sk-estimator-id-5\" type=\"checkbox\" checked><label for=\"sk-estimator-id-5\" class=\"sk-toggleable__label sk-toggleable__label-arrow\">LinearSVC</label><div class=\"sk-toggleable__content\"><pre>LinearSVC()</pre></div></div></div></div></div>"
            ]
          },
          "metadata": {},
          "execution_count": 60
        }
      ]
    },
    {
      "cell_type": "code",
      "source": [
        "from sklearn.metrics import accuracy_score, classification_report, precision_recall_fscore_support\n",
        "# predict on validation subset\n",
        "validation_predictions=SVC_Model.predict(X_valid)\n",
        "\n",
        "val_accuracy=accuracy_score(y_valid, validation_predictions)\n",
        "val_accuracy"
      ],
      "metadata": {
        "colab": {
          "base_uri": "https://localhost:8080/"
        },
        "id": "it51XsXivIg_",
        "outputId": "a809a60c-2614-4bdc-d5a4-5cdf8addca64"
      },
      "execution_count": null,
      "outputs": [
        {
          "output_type": "execute_result",
          "data": {
            "text/plain": [
              "0.5949460481416582"
            ]
          },
          "metadata": {},
          "execution_count": 70
        }
      ]
    },
    {
      "cell_type": "code",
      "source": [
        "# generate classification report on validation data\n",
        "val_class_report=classification_report(y_valid, validation_predictions)\n",
        "print(val_class_report)"
      ],
      "metadata": {
        "colab": {
          "base_uri": "https://localhost:8080/"
        },
        "id": "G7zh3alFwpi9",
        "outputId": "c9482318-e04a-4021-9424-9bdd909d38c0"
      },
      "execution_count": null,
      "outputs": [
        {
          "output_type": "stream",
          "name": "stdout",
          "text": [
            "              precision    recall  f1-score   support\n",
            "\n",
            "           0       0.47      0.34      0.40       263\n",
            "           1       0.82      0.44      0.57       112\n",
            "           2       0.45      0.23      0.30       139\n",
            "           3       0.49      0.17      0.26       104\n",
            "           4       0.00      0.00      0.00        61\n",
            "           5       0.54      0.59      0.56      1443\n",
            "           6       0.31      0.04      0.07       107\n",
            "           7       0.69      0.83      0.76      2659\n",
            "           8       0.57      0.74      0.64      2697\n",
            "           9       0.41      0.16      0.23       150\n",
            "          10       0.11      0.01      0.02        74\n",
            "          11       0.81      0.65      0.72        40\n",
            "          12       1.00      0.02      0.04        45\n",
            "          13       0.66      0.67      0.67       431\n",
            "          14       0.60      0.58      0.59       144\n",
            "          15       0.57      0.08      0.14        50\n",
            "          16       0.43      0.05      0.10        56\n",
            "          17       0.29      0.06      0.10        34\n",
            "          18       0.52      0.32      0.39       192\n",
            "          19       0.24      0.05      0.08       151\n",
            "          20       0.51      0.31      0.38       143\n",
            "          21       0.47      0.37      0.41      1045\n",
            "          22       0.60      0.39      0.47        93\n",
            "          23       0.67      0.30      0.41        81\n",
            "          24       0.32      0.17      0.22       309\n",
            "          25       0.33      0.05      0.09        20\n",
            "          26       0.84      0.83      0.84       200\n",
            "\n",
            "    accuracy                           0.59     10843\n",
            "   macro avg       0.51      0.31      0.35     10843\n",
            "weighted avg       0.57      0.59      0.57     10843\n",
            "\n"
          ]
        }
      ]
    },
    {
      "cell_type": "code",
      "source": [
        "# Test dataset accuracy and classification report\n",
        "test_predictions=SVC_Model.predict(test_desc_vec)\n",
        "print(f\"Test accuracy: {accuracy_score(test_labels, test_predictions)}\")\n",
        "print(classification_report(test_labels, test_predictions))"
      ],
      "metadata": {
        "colab": {
          "base_uri": "https://localhost:8080/"
        },
        "id": "8eoA9fdAutXf",
        "outputId": "33f90a01-6c0a-4e3b-e27a-9dde1a4c4b93"
      },
      "execution_count": null,
      "outputs": [
        {
          "output_type": "stream",
          "name": "stdout",
          "text": [
            "Test accuracy: 0.5897785977859779\n",
            "              precision    recall  f1-score   support\n",
            "\n",
            "           0       0.44      0.33      0.38      1314\n",
            "           1       0.66      0.39      0.49       590\n",
            "           2       0.51      0.23      0.32       775\n",
            "           3       0.43      0.13      0.20       498\n",
            "           4       0.00      0.00      0.00       264\n",
            "           5       0.55      0.60      0.57      7446\n",
            "           6       0.32      0.05      0.09       505\n",
            "           7       0.69      0.84      0.76     13096\n",
            "           8       0.57      0.73      0.64     13612\n",
            "           9       0.40      0.15      0.22       783\n",
            "          10       0.31      0.06      0.10       322\n",
            "          11       0.83      0.64      0.72       193\n",
            "          12       0.26      0.02      0.04       243\n",
            "          13       0.61      0.63      0.62      2204\n",
            "          14       0.61      0.53      0.57       731\n",
            "          15       0.37      0.07      0.12       276\n",
            "          16       0.18      0.02      0.04       318\n",
            "          17       0.68      0.13      0.21       181\n",
            "          18       0.48      0.26      0.33       883\n",
            "          19       0.27      0.04      0.08       672\n",
            "          20       0.53      0.32      0.40       646\n",
            "          21       0.44      0.34      0.39      5072\n",
            "          22       0.63      0.38      0.47       431\n",
            "          23       0.62      0.30      0.40       391\n",
            "          24       0.31      0.16      0.21      1590\n",
            "          25       0.57      0.13      0.21       132\n",
            "          26       0.86      0.82      0.84      1032\n",
            "\n",
            "    accuracy                           0.59     54200\n",
            "   macro avg       0.49      0.31      0.35     54200\n",
            "weighted avg       0.56      0.59      0.56     54200\n",
            "\n"
          ]
        }
      ]
    },
    {
      "cell_type": "markdown",
      "source": [
        "## Comparing Results"
      ],
      "metadata": {
        "id": "qfhdtQDd3__V"
      }
    },
    {
      "cell_type": "code",
      "source": [
        "def calculate_results(y_true, y_pred):\n",
        "  # Calculate model accuracy\n",
        "  model_accuracy = accuracy_score(y_true, y_pred) * 100\n",
        "  # Calculate model precision, recall and f1 score using \"weighted average\n",
        "  model_precision, model_recall, model_f1, _ = precision_recall_fscore_support(y_true, y_pred, average=\"weighted\")\n",
        "  model_results = {\"accuracy\": model_accuracy,\n",
        "                  \"precision\": model_precision,\n",
        "                  \"recall\": model_recall,\n",
        "                  \"f1\": model_f1}\n",
        "  return model_results"
      ],
      "metadata": {
        "id": "ZCpRX3UV4Cbb"
      },
      "execution_count": null,
      "outputs": []
    },
    {
      "cell_type": "code",
      "source": [
        "model_1_predictions=TF_IDF_NB_Model.predict(test_desc)\n",
        "model_2_predictions=tf.argmax(Model_2.predict(test_dataset), axis=1)\n",
        "model_3_predictions=SVC_Model.predict(test_desc_vec)\n",
        "\n",
        "model_1_results=calculate_results(test_labels, model_1_predictions)\n",
        "model_2_results=calculate_results(test_labels, model_2_predictions)\n",
        "model_3_results=calculate_results(test_labels, model_3_predictions)\n",
        "\n",
        "print(f\"Model 1 (Tfidf Naive Bayes) results: {model_1_results}\")\n",
        "print(f\"Model 2 (pretrained USE embeddings) results: {model_2_results}\")\n",
        "print(f\"Model 3 (SVC) results: {model_3_results}\")"
      ],
      "metadata": {
        "colab": {
          "base_uri": "https://localhost:8080/"
        },
        "id": "AypQud2j4Rb_",
        "outputId": "6c59e308-d786-4508-9fc8-79a29c6742a5"
      },
      "execution_count": null,
      "outputs": [
        {
          "output_type": "stream",
          "name": "stdout",
          "text": [
            "1694/1694 [==============================] - 38s 23ms/step\n",
            "Model 1 (Tfidf Naive Bayes) results: {'accuracy': 44.26752767527675, 'precision': 0.40636510764903433, 'recall': 0.4426752767527675, 'f1': 0.30277842214834066}\n",
            "Model 2 (pretrained USE embeddings) results: {'accuracy': 58.88745387453874, 'precision': 0.5554847145540214, 'recall': 0.5888745387453874, 'f1': 0.5562492095894154}\n",
            "Model 3 (SVC) results: {'accuracy': 58.97785977859778, 'precision': 0.5613783785726706, 'recall': 0.5897785977859779, 'f1': 0.5607550463323367}\n"
          ]
        },
        {
          "output_type": "stream",
          "name": "stderr",
          "text": [
            "/usr/local/lib/python3.10/dist-packages/sklearn/metrics/_classification.py:1344: UndefinedMetricWarning: Precision and F-score are ill-defined and being set to 0.0 in labels with no predicted samples. Use `zero_division` parameter to control this behavior.\n",
            "  _warn_prf(average, modifier, msg_start, len(result))\n",
            "/usr/local/lib/python3.10/dist-packages/sklearn/metrics/_classification.py:1344: UndefinedMetricWarning: Precision and F-score are ill-defined and being set to 0.0 in labels with no predicted samples. Use `zero_division` parameter to control this behavior.\n",
            "  _warn_prf(average, modifier, msg_start, len(result))\n"
          ]
        }
      ]
    },
    {
      "cell_type": "code",
      "source": [
        "# Combine model results into a dataframe\n",
        "combined_results = pd.DataFrame({\"Model 1 (Tfidf Naive Bayes)\": model_1_results,\n",
        "                                  \"Model 2 (pretrained USE embeddings)\": model_2_results,\n",
        "                                  \"Model 3 (SVC)\": model_3_results})\n",
        "combined_results = combined_results.transpose()\n",
        "combined_results"
      ],
      "metadata": {
        "colab": {
          "base_uri": "https://localhost:8080/",
          "height": 143
        },
        "id": "xXgMY-_W7xZh",
        "outputId": "a1e80a32-64af-4671-8581-95d9d2c6b27c"
      },
      "execution_count": null,
      "outputs": [
        {
          "output_type": "execute_result",
          "data": {
            "text/plain": [
              "                                      accuracy  precision    recall        f1\n",
              "Model 1 (Tfidf Naive Bayes)          44.267528   0.406365  0.442675  0.302778\n",
              "Model 2 (pretrained USE embeddings)  58.887454   0.555485  0.588875  0.556249\n",
              "Model 3 (SVC)                        58.977860   0.561378  0.589779  0.560755"
            ],
            "text/html": [
              "\n",
              "  <div id=\"df-9524ab05-91eb-4e21-a520-b76a1f320f4a\" class=\"colab-df-container\">\n",
              "    <div>\n",
              "<style scoped>\n",
              "    .dataframe tbody tr th:only-of-type {\n",
              "        vertical-align: middle;\n",
              "    }\n",
              "\n",
              "    .dataframe tbody tr th {\n",
              "        vertical-align: top;\n",
              "    }\n",
              "\n",
              "    .dataframe thead th {\n",
              "        text-align: right;\n",
              "    }\n",
              "</style>\n",
              "<table border=\"1\" class=\"dataframe\">\n",
              "  <thead>\n",
              "    <tr style=\"text-align: right;\">\n",
              "      <th></th>\n",
              "      <th>accuracy</th>\n",
              "      <th>precision</th>\n",
              "      <th>recall</th>\n",
              "      <th>f1</th>\n",
              "    </tr>\n",
              "  </thead>\n",
              "  <tbody>\n",
              "    <tr>\n",
              "      <th>Model 1 (Tfidf Naive Bayes)</th>\n",
              "      <td>44.267528</td>\n",
              "      <td>0.406365</td>\n",
              "      <td>0.442675</td>\n",
              "      <td>0.302778</td>\n",
              "    </tr>\n",
              "    <tr>\n",
              "      <th>Model 2 (pretrained USE embeddings)</th>\n",
              "      <td>58.887454</td>\n",
              "      <td>0.555485</td>\n",
              "      <td>0.588875</td>\n",
              "      <td>0.556249</td>\n",
              "    </tr>\n",
              "    <tr>\n",
              "      <th>Model 3 (SVC)</th>\n",
              "      <td>58.977860</td>\n",
              "      <td>0.561378</td>\n",
              "      <td>0.589779</td>\n",
              "      <td>0.560755</td>\n",
              "    </tr>\n",
              "  </tbody>\n",
              "</table>\n",
              "</div>\n",
              "    <div class=\"colab-df-buttons\">\n",
              "\n",
              "  <div class=\"colab-df-container\">\n",
              "    <button class=\"colab-df-convert\" onclick=\"convertToInteractive('df-9524ab05-91eb-4e21-a520-b76a1f320f4a')\"\n",
              "            title=\"Convert this dataframe to an interactive table.\"\n",
              "            style=\"display:none;\">\n",
              "\n",
              "  <svg xmlns=\"http://www.w3.org/2000/svg\" height=\"24px\" viewBox=\"0 -960 960 960\">\n",
              "    <path d=\"M120-120v-720h720v720H120Zm60-500h600v-160H180v160Zm220 220h160v-160H400v160Zm0 220h160v-160H400v160ZM180-400h160v-160H180v160Zm440 0h160v-160H620v160ZM180-180h160v-160H180v160Zm440 0h160v-160H620v160Z\"/>\n",
              "  </svg>\n",
              "    </button>\n",
              "\n",
              "  <style>\n",
              "    .colab-df-container {\n",
              "      display:flex;\n",
              "      gap: 12px;\n",
              "    }\n",
              "\n",
              "    .colab-df-convert {\n",
              "      background-color: #E8F0FE;\n",
              "      border: none;\n",
              "      border-radius: 50%;\n",
              "      cursor: pointer;\n",
              "      display: none;\n",
              "      fill: #1967D2;\n",
              "      height: 32px;\n",
              "      padding: 0 0 0 0;\n",
              "      width: 32px;\n",
              "    }\n",
              "\n",
              "    .colab-df-convert:hover {\n",
              "      background-color: #E2EBFA;\n",
              "      box-shadow: 0px 1px 2px rgba(60, 64, 67, 0.3), 0px 1px 3px 1px rgba(60, 64, 67, 0.15);\n",
              "      fill: #174EA6;\n",
              "    }\n",
              "\n",
              "    .colab-df-buttons div {\n",
              "      margin-bottom: 4px;\n",
              "    }\n",
              "\n",
              "    [theme=dark] .colab-df-convert {\n",
              "      background-color: #3B4455;\n",
              "      fill: #D2E3FC;\n",
              "    }\n",
              "\n",
              "    [theme=dark] .colab-df-convert:hover {\n",
              "      background-color: #434B5C;\n",
              "      box-shadow: 0px 1px 3px 1px rgba(0, 0, 0, 0.15);\n",
              "      filter: drop-shadow(0px 1px 2px rgba(0, 0, 0, 0.3));\n",
              "      fill: #FFFFFF;\n",
              "    }\n",
              "  </style>\n",
              "\n",
              "    <script>\n",
              "      const buttonEl =\n",
              "        document.querySelector('#df-9524ab05-91eb-4e21-a520-b76a1f320f4a button.colab-df-convert');\n",
              "      buttonEl.style.display =\n",
              "        google.colab.kernel.accessAllowed ? 'block' : 'none';\n",
              "\n",
              "      async function convertToInteractive(key) {\n",
              "        const element = document.querySelector('#df-9524ab05-91eb-4e21-a520-b76a1f320f4a');\n",
              "        const dataTable =\n",
              "          await google.colab.kernel.invokeFunction('convertToInteractive',\n",
              "                                                    [key], {});\n",
              "        if (!dataTable) return;\n",
              "\n",
              "        const docLinkHtml = 'Like what you see? Visit the ' +\n",
              "          '<a target=\"_blank\" href=https://colab.research.google.com/notebooks/data_table.ipynb>data table notebook</a>'\n",
              "          + ' to learn more about interactive tables.';\n",
              "        element.innerHTML = '';\n",
              "        dataTable['output_type'] = 'display_data';\n",
              "        await google.colab.output.renderOutput(dataTable, element);\n",
              "        const docLink = document.createElement('div');\n",
              "        docLink.innerHTML = docLinkHtml;\n",
              "        element.appendChild(docLink);\n",
              "      }\n",
              "    </script>\n",
              "  </div>\n",
              "\n",
              "\n",
              "<div id=\"df-2ecba3e2-65c5-4b05-8ea6-8e73e8e6ba6f\">\n",
              "  <button class=\"colab-df-quickchart\" onclick=\"quickchart('df-2ecba3e2-65c5-4b05-8ea6-8e73e8e6ba6f')\"\n",
              "            title=\"Suggest charts\"\n",
              "            style=\"display:none;\">\n",
              "\n",
              "<svg xmlns=\"http://www.w3.org/2000/svg\" height=\"24px\"viewBox=\"0 0 24 24\"\n",
              "     width=\"24px\">\n",
              "    <g>\n",
              "        <path d=\"M19 3H5c-1.1 0-2 .9-2 2v14c0 1.1.9 2 2 2h14c1.1 0 2-.9 2-2V5c0-1.1-.9-2-2-2zM9 17H7v-7h2v7zm4 0h-2V7h2v10zm4 0h-2v-4h2v4z\"/>\n",
              "    </g>\n",
              "</svg>\n",
              "  </button>\n",
              "\n",
              "<style>\n",
              "  .colab-df-quickchart {\n",
              "      --bg-color: #E8F0FE;\n",
              "      --fill-color: #1967D2;\n",
              "      --hover-bg-color: #E2EBFA;\n",
              "      --hover-fill-color: #174EA6;\n",
              "      --disabled-fill-color: #AAA;\n",
              "      --disabled-bg-color: #DDD;\n",
              "  }\n",
              "\n",
              "  [theme=dark] .colab-df-quickchart {\n",
              "      --bg-color: #3B4455;\n",
              "      --fill-color: #D2E3FC;\n",
              "      --hover-bg-color: #434B5C;\n",
              "      --hover-fill-color: #FFFFFF;\n",
              "      --disabled-bg-color: #3B4455;\n",
              "      --disabled-fill-color: #666;\n",
              "  }\n",
              "\n",
              "  .colab-df-quickchart {\n",
              "    background-color: var(--bg-color);\n",
              "    border: none;\n",
              "    border-radius: 50%;\n",
              "    cursor: pointer;\n",
              "    display: none;\n",
              "    fill: var(--fill-color);\n",
              "    height: 32px;\n",
              "    padding: 0;\n",
              "    width: 32px;\n",
              "  }\n",
              "\n",
              "  .colab-df-quickchart:hover {\n",
              "    background-color: var(--hover-bg-color);\n",
              "    box-shadow: 0 1px 2px rgba(60, 64, 67, 0.3), 0 1px 3px 1px rgba(60, 64, 67, 0.15);\n",
              "    fill: var(--button-hover-fill-color);\n",
              "  }\n",
              "\n",
              "  .colab-df-quickchart-complete:disabled,\n",
              "  .colab-df-quickchart-complete:disabled:hover {\n",
              "    background-color: var(--disabled-bg-color);\n",
              "    fill: var(--disabled-fill-color);\n",
              "    box-shadow: none;\n",
              "  }\n",
              "\n",
              "  .colab-df-spinner {\n",
              "    border: 2px solid var(--fill-color);\n",
              "    border-color: transparent;\n",
              "    border-bottom-color: var(--fill-color);\n",
              "    animation:\n",
              "      spin 1s steps(1) infinite;\n",
              "  }\n",
              "\n",
              "  @keyframes spin {\n",
              "    0% {\n",
              "      border-color: transparent;\n",
              "      border-bottom-color: var(--fill-color);\n",
              "      border-left-color: var(--fill-color);\n",
              "    }\n",
              "    20% {\n",
              "      border-color: transparent;\n",
              "      border-left-color: var(--fill-color);\n",
              "      border-top-color: var(--fill-color);\n",
              "    }\n",
              "    30% {\n",
              "      border-color: transparent;\n",
              "      border-left-color: var(--fill-color);\n",
              "      border-top-color: var(--fill-color);\n",
              "      border-right-color: var(--fill-color);\n",
              "    }\n",
              "    40% {\n",
              "      border-color: transparent;\n",
              "      border-right-color: var(--fill-color);\n",
              "      border-top-color: var(--fill-color);\n",
              "    }\n",
              "    60% {\n",
              "      border-color: transparent;\n",
              "      border-right-color: var(--fill-color);\n",
              "    }\n",
              "    80% {\n",
              "      border-color: transparent;\n",
              "      border-right-color: var(--fill-color);\n",
              "      border-bottom-color: var(--fill-color);\n",
              "    }\n",
              "    90% {\n",
              "      border-color: transparent;\n",
              "      border-bottom-color: var(--fill-color);\n",
              "    }\n",
              "  }\n",
              "</style>\n",
              "\n",
              "  <script>\n",
              "    async function quickchart(key) {\n",
              "      const quickchartButtonEl =\n",
              "        document.querySelector('#' + key + ' button');\n",
              "      quickchartButtonEl.disabled = true;  // To prevent multiple clicks.\n",
              "      quickchartButtonEl.classList.add('colab-df-spinner');\n",
              "      try {\n",
              "        const charts = await google.colab.kernel.invokeFunction(\n",
              "            'suggestCharts', [key], {});\n",
              "      } catch (error) {\n",
              "        console.error('Error during call to suggestCharts:', error);\n",
              "      }\n",
              "      quickchartButtonEl.classList.remove('colab-df-spinner');\n",
              "      quickchartButtonEl.classList.add('colab-df-quickchart-complete');\n",
              "    }\n",
              "    (() => {\n",
              "      let quickchartButtonEl =\n",
              "        document.querySelector('#df-2ecba3e2-65c5-4b05-8ea6-8e73e8e6ba6f button');\n",
              "      quickchartButtonEl.style.display =\n",
              "        google.colab.kernel.accessAllowed ? 'block' : 'none';\n",
              "    })();\n",
              "  </script>\n",
              "</div>\n",
              "\n",
              "  <div id=\"id_fb3f5bb3-2166-43ba-9217-9f8b10f4ec74\">\n",
              "    <style>\n",
              "      .colab-df-generate {\n",
              "        background-color: #E8F0FE;\n",
              "        border: none;\n",
              "        border-radius: 50%;\n",
              "        cursor: pointer;\n",
              "        display: none;\n",
              "        fill: #1967D2;\n",
              "        height: 32px;\n",
              "        padding: 0 0 0 0;\n",
              "        width: 32px;\n",
              "      }\n",
              "\n",
              "      .colab-df-generate:hover {\n",
              "        background-color: #E2EBFA;\n",
              "        box-shadow: 0px 1px 2px rgba(60, 64, 67, 0.3), 0px 1px 3px 1px rgba(60, 64, 67, 0.15);\n",
              "        fill: #174EA6;\n",
              "      }\n",
              "\n",
              "      [theme=dark] .colab-df-generate {\n",
              "        background-color: #3B4455;\n",
              "        fill: #D2E3FC;\n",
              "      }\n",
              "\n",
              "      [theme=dark] .colab-df-generate:hover {\n",
              "        background-color: #434B5C;\n",
              "        box-shadow: 0px 1px 3px 1px rgba(0, 0, 0, 0.15);\n",
              "        filter: drop-shadow(0px 1px 2px rgba(0, 0, 0, 0.3));\n",
              "        fill: #FFFFFF;\n",
              "      }\n",
              "    </style>\n",
              "    <button class=\"colab-df-generate\" onclick=\"generateWithVariable('combined_results')\"\n",
              "            title=\"Generate code using this dataframe.\"\n",
              "            style=\"display:none;\">\n",
              "\n",
              "  <svg xmlns=\"http://www.w3.org/2000/svg\" height=\"24px\"viewBox=\"0 0 24 24\"\n",
              "       width=\"24px\">\n",
              "    <path d=\"M7,19H8.4L18.45,9,17,7.55,7,17.6ZM5,21V16.75L18.45,3.32a2,2,0,0,1,2.83,0l1.4,1.43a1.91,1.91,0,0,1,.58,1.4,1.91,1.91,0,0,1-.58,1.4L9.25,21ZM18.45,9,17,7.55Zm-12,3A5.31,5.31,0,0,0,4.9,8.1,5.31,5.31,0,0,0,1,6.5,5.31,5.31,0,0,0,4.9,4.9,5.31,5.31,0,0,0,6.5,1,5.31,5.31,0,0,0,8.1,4.9,5.31,5.31,0,0,0,12,6.5,5.46,5.46,0,0,0,6.5,12Z\"/>\n",
              "  </svg>\n",
              "    </button>\n",
              "    <script>\n",
              "      (() => {\n",
              "      const buttonEl =\n",
              "        document.querySelector('#id_fb3f5bb3-2166-43ba-9217-9f8b10f4ec74 button.colab-df-generate');\n",
              "      buttonEl.style.display =\n",
              "        google.colab.kernel.accessAllowed ? 'block' : 'none';\n",
              "\n",
              "      buttonEl.onclick = () => {\n",
              "        google.colab.notebook.generateWithVariable('combined_results');\n",
              "      }\n",
              "      })();\n",
              "    </script>\n",
              "  </div>\n",
              "\n",
              "    </div>\n",
              "  </div>\n"
            ]
          },
          "metadata": {},
          "execution_count": 83
        }
      ]
    },
    {
      "cell_type": "code",
      "source": [
        "# Plot results comparison\n",
        "combined_results[\"accuracy\"] = combined_results[\"accuracy\"]/100\n",
        "combined_results.plot(kind=\"bar\", figsize=(10, 7)).legend(bbox_to_anchor=(1.0, 1.0));"
      ],
      "metadata": {
        "colab": {
          "base_uri": "https://localhost:8080/",
          "height": 850
        },
        "id": "lEk8It7d81Qw",
        "outputId": "595c6a77-cb6b-47f9-b316-179a4ab7b510"
      },
      "execution_count": null,
      "outputs": [
        {
          "output_type": "display_data",
          "data": {
            "text/plain": [
              "<Figure size 1000x700 with 1 Axes>"
            ],
            "image/png": "[encoded data removed]"
          },
          "metadata": {}
        }
      ]
    }
  ]
}